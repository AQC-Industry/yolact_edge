{
 "cells": [
  {
   "cell_type": "markdown",
   "id": "174fe443",
   "metadata": {},
   "source": [
    "## Generate INT8 images for calibrating network"
   ]
  },
  {
   "cell_type": "code",
   "execution_count": 16,
   "id": "5702dc96",
   "metadata": {},
   "outputs": [],
   "source": [
    "from PIL import Image\n",
    "import cv2 as cv\n",
    "import numpy as np\n",
    "import os\n",
    "import random"
   ]
  },
  {
   "cell_type": "code",
   "execution_count": 17,
   "id": "7f30c47d",
   "metadata": {},
   "outputs": [],
   "source": [
    "path = \"../train\"\n",
    "n = 100\n",
    "random.seed(0)\n",
    "list_images = [x for x in os.listdir(path)]\n",
    "images = random.sample(list_images, n)"
   ]
  },
  {
   "cell_type": "code",
   "execution_count": 20,
   "id": "e4b80330",
   "metadata": {},
   "outputs": [],
   "source": [
    "for image in images:\n",
    "    img = cv.imread(os.path.join(path, image))\n",
    "    img = img.astype(np.uint8)\n",
    "    i = Image.fromarray(img)\n",
    "    output_path = os.path.join(\"../calib_images\", image)\n",
    "    i.save(output_path, format=\"png\")"
   ]
  },
  {
   "cell_type": "code",
   "execution_count": null,
   "id": "1f05882a",
   "metadata": {},
   "outputs": [],
   "source": []
  }
 ],
 "metadata": {
  "kernelspec": {
   "display_name": "conda_python3",
   "language": "python",
   "name": "conda_python3"
  },
  "language_info": {
   "codemirror_mode": {
    "name": "ipython",
    "version": 3
   },
   "file_extension": ".py",
   "mimetype": "text/x-python",
   "name": "python",
   "nbconvert_exporter": "python",
   "pygments_lexer": "ipython3",
   "version": "3.8.12"
  }
 },
 "nbformat": 4,
 "nbformat_minor": 5
}
